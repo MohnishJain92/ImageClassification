{
 "cells": [
  {
   "cell_type": "code",
   "execution_count": 1,
   "metadata": {},
   "outputs": [
    {
     "name": "stderr",
     "output_type": "stream",
     "text": [
      "Using TensorFlow backend.\n",
      "C:\\Users\\admin\\AppData\\Local\\Continuum\\anaconda3\\envs\\tf-old\\lib\\site-packages\\tensorflow\\python\\framework\\dtypes.py:516: FutureWarning: Passing (type, 1) or '1type' as a synonym of type is deprecated; in a future version of numpy, it will be understood as (type, (1,)) / '(1,)type'.\n",
      "  _np_qint8 = np.dtype([(\"qint8\", np.int8, 1)])\n",
      "C:\\Users\\admin\\AppData\\Local\\Continuum\\anaconda3\\envs\\tf-old\\lib\\site-packages\\tensorflow\\python\\framework\\dtypes.py:517: FutureWarning: Passing (type, 1) or '1type' as a synonym of type is deprecated; in a future version of numpy, it will be understood as (type, (1,)) / '(1,)type'.\n",
      "  _np_quint8 = np.dtype([(\"quint8\", np.uint8, 1)])\n",
      "C:\\Users\\admin\\AppData\\Local\\Continuum\\anaconda3\\envs\\tf-old\\lib\\site-packages\\tensorflow\\python\\framework\\dtypes.py:518: FutureWarning: Passing (type, 1) or '1type' as a synonym of type is deprecated; in a future version of numpy, it will be understood as (type, (1,)) / '(1,)type'.\n",
      "  _np_qint16 = np.dtype([(\"qint16\", np.int16, 1)])\n",
      "C:\\Users\\admin\\AppData\\Local\\Continuum\\anaconda3\\envs\\tf-old\\lib\\site-packages\\tensorflow\\python\\framework\\dtypes.py:519: FutureWarning: Passing (type, 1) or '1type' as a synonym of type is deprecated; in a future version of numpy, it will be understood as (type, (1,)) / '(1,)type'.\n",
      "  _np_quint16 = np.dtype([(\"quint16\", np.uint16, 1)])\n",
      "C:\\Users\\admin\\AppData\\Local\\Continuum\\anaconda3\\envs\\tf-old\\lib\\site-packages\\tensorflow\\python\\framework\\dtypes.py:520: FutureWarning: Passing (type, 1) or '1type' as a synonym of type is deprecated; in a future version of numpy, it will be understood as (type, (1,)) / '(1,)type'.\n",
      "  _np_qint32 = np.dtype([(\"qint32\", np.int32, 1)])\n",
      "C:\\Users\\admin\\AppData\\Local\\Continuum\\anaconda3\\envs\\tf-old\\lib\\site-packages\\tensorflow\\python\\framework\\dtypes.py:525: FutureWarning: Passing (type, 1) or '1type' as a synonym of type is deprecated; in a future version of numpy, it will be understood as (type, (1,)) / '(1,)type'.\n",
      "  np_resource = np.dtype([(\"resource\", np.ubyte, 1)])\n",
      "C:\\Users\\admin\\AppData\\Local\\Continuum\\anaconda3\\envs\\tf-old\\lib\\site-packages\\tensorboard\\compat\\tensorflow_stub\\dtypes.py:541: FutureWarning: Passing (type, 1) or '1type' as a synonym of type is deprecated; in a future version of numpy, it will be understood as (type, (1,)) / '(1,)type'.\n",
      "  _np_qint8 = np.dtype([(\"qint8\", np.int8, 1)])\n",
      "C:\\Users\\admin\\AppData\\Local\\Continuum\\anaconda3\\envs\\tf-old\\lib\\site-packages\\tensorboard\\compat\\tensorflow_stub\\dtypes.py:542: FutureWarning: Passing (type, 1) or '1type' as a synonym of type is deprecated; in a future version of numpy, it will be understood as (type, (1,)) / '(1,)type'.\n",
      "  _np_quint8 = np.dtype([(\"quint8\", np.uint8, 1)])\n",
      "C:\\Users\\admin\\AppData\\Local\\Continuum\\anaconda3\\envs\\tf-old\\lib\\site-packages\\tensorboard\\compat\\tensorflow_stub\\dtypes.py:543: FutureWarning: Passing (type, 1) or '1type' as a synonym of type is deprecated; in a future version of numpy, it will be understood as (type, (1,)) / '(1,)type'.\n",
      "  _np_qint16 = np.dtype([(\"qint16\", np.int16, 1)])\n",
      "C:\\Users\\admin\\AppData\\Local\\Continuum\\anaconda3\\envs\\tf-old\\lib\\site-packages\\tensorboard\\compat\\tensorflow_stub\\dtypes.py:544: FutureWarning: Passing (type, 1) or '1type' as a synonym of type is deprecated; in a future version of numpy, it will be understood as (type, (1,)) / '(1,)type'.\n",
      "  _np_quint16 = np.dtype([(\"quint16\", np.uint16, 1)])\n",
      "C:\\Users\\admin\\AppData\\Local\\Continuum\\anaconda3\\envs\\tf-old\\lib\\site-packages\\tensorboard\\compat\\tensorflow_stub\\dtypes.py:545: FutureWarning: Passing (type, 1) or '1type' as a synonym of type is deprecated; in a future version of numpy, it will be understood as (type, (1,)) / '(1,)type'.\n",
      "  _np_qint32 = np.dtype([(\"qint32\", np.int32, 1)])\n",
      "C:\\Users\\admin\\AppData\\Local\\Continuum\\anaconda3\\envs\\tf-old\\lib\\site-packages\\tensorboard\\compat\\tensorflow_stub\\dtypes.py:550: FutureWarning: Passing (type, 1) or '1type' as a synonym of type is deprecated; in a future version of numpy, it will be understood as (type, (1,)) / '(1,)type'.\n",
      "  np_resource = np.dtype([(\"resource\", np.ubyte, 1)])\n"
     ]
    }
   ],
   "source": [
    "# Convolutional Neural Network\n",
    "\n",
    "# Installing Theano\n",
    "# pip install --upgrade --no-deps git+git://github.com/Theano/Theano.git\n",
    "\n",
    "# Installing Tensorflow\n",
    "# pip install tensorflow\n",
    "\n",
    "# Installing Keras\n",
    "# pip install --upgrade keras\n",
    "\n",
    "# Part 1 - Building the CNN\n",
    "# Importing the Keras libraries and packages\n",
    "from keras.models import Sequential\n",
    "from keras.layers import Conv2D\n",
    "from keras.layers import MaxPooling2D\n",
    "from keras.layers import Flatten\n",
    "from keras.layers import Dense"
   ]
  },
  {
   "cell_type": "code",
   "execution_count": 2,
   "metadata": {},
   "outputs": [
    {
     "name": "stdout",
     "output_type": "stream",
     "text": [
      "WARNING:tensorflow:From C:\\Users\\admin\\AppData\\Local\\Continuum\\anaconda3\\envs\\tf-old\\lib\\site-packages\\keras\\backend\\tensorflow_backend.py:4070: The name tf.nn.max_pool is deprecated. Please use tf.nn.max_pool2d instead.\n",
      "\n"
     ]
    }
   ],
   "source": [
    "\n",
    "# Initialising the CNN\n",
    "classifier = Sequential()\n",
    "\n",
    "# Step 1 - Convolution\n",
    "classifier.add(Conv2D(32, (3, 3), input_shape = (64, 64, 3), activation = 'relu'))\n",
    "\n",
    "# Step 2 - Pooling\n",
    "classifier.add(MaxPooling2D(pool_size = (2, 2)))\n",
    "\n",
    "# Adding a second convolutional layer\n",
    "classifier.add(Conv2D(32, (3, 3), activation = 'relu'))\n",
    "classifier.add(MaxPooling2D(pool_size = (2, 2)))\n",
    "\n",
    "\n",
    "\n",
    "# Step 3 - Flattening\n",
    "classifier.add(Flatten())\n",
    "\n",
    "# Step 4 - Full connection\n",
    "classifier.add(Dense(units = 128, activation = 'relu'))\n",
    "\n",
    "classifier.add(Dense(units = 3, activation = 'softmax'))\n",
    "\n",
    "# Compiling the CNN\n",
    "classifier.compile(optimizer = 'adam', loss = 'categorical_crossentropy', metrics = ['accuracy'])\n",
    "\n"
   ]
  },
  {
   "cell_type": "code",
   "execution_count": 3,
   "metadata": {},
   "outputs": [
    {
     "name": "stdout",
     "output_type": "stream",
     "text": [
      "Found 30 images belonging to 3 classes.\n",
      "Found 9 images belonging to 3 classes.\n",
      "WARNING:tensorflow:From C:\\Users\\admin\\AppData\\Local\\Continuum\\anaconda3\\envs\\tf-old\\lib\\site-packages\\keras\\backend\\tensorflow_backend.py:422: The name tf.global_variables is deprecated. Please use tf.compat.v1.global_variables instead.\n",
      "\n",
      "Epoch 1/20\n",
      "1/1 [==============================] - 3s 3s/step - loss: 1.1015 - accuracy: 0.3333 - val_loss: 1.6363 - val_accuracy: 0.3333\n",
      "Epoch 2/20\n",
      "1/1 [==============================] - 2s 2s/step - loss: 1.4837 - accuracy: 0.3333 - val_loss: 1.1927 - val_accuracy: 0.3333\n",
      "Epoch 3/20\n",
      "1/1 [==============================] - 2s 2s/step - loss: 1.2083 - accuracy: 0.3333 - val_loss: 1.1686 - val_accuracy: 0.3333\n",
      "Epoch 4/20\n",
      "1/1 [==============================] - 2s 2s/step - loss: 1.1452 - accuracy: 0.3333 - val_loss: 1.1405 - val_accuracy: 0.3333\n",
      "Epoch 5/20\n",
      "1/1 [==============================] - 4s 4s/step - loss: 1.0595 - accuracy: 0.3333 - val_loss: 1.1479 - val_accuracy: 0.3333\n",
      "Epoch 6/20\n",
      "1/1 [==============================] - 4s 4s/step - loss: 1.0387 - accuracy: 0.5000 - val_loss: 1.1629 - val_accuracy: 0.3333\n",
      "Epoch 7/20\n",
      "1/1 [==============================] - 4s 4s/step - loss: 1.0570 - accuracy: 0.4667 - val_loss: 1.1711 - val_accuracy: 0.3333\n",
      "Epoch 8/20\n",
      "1/1 [==============================] - 4s 4s/step - loss: 1.0508 - accuracy: 0.4333 - val_loss: 1.1664 - val_accuracy: 0.3333\n",
      "Epoch 9/20\n",
      "1/1 [==============================] - 4s 4s/step - loss: 1.0172 - accuracy: 0.4000 - val_loss: 1.1580 - val_accuracy: 0.3333\n",
      "Epoch 10/20\n",
      "1/1 [==============================] - 4s 4s/step - loss: 0.9811 - accuracy: 0.6333 - val_loss: 1.1565 - val_accuracy: 0.1111\n",
      "Epoch 11/20\n",
      "1/1 [==============================] - 4s 4s/step - loss: 0.9539 - accuracy: 0.8000 - val_loss: 1.1530 - val_accuracy: 0.1111\n",
      "Epoch 12/20\n",
      "1/1 [==============================] - 4s 4s/step - loss: 0.9356 - accuracy: 0.6333 - val_loss: 1.1497 - val_accuracy: 0.1111\n",
      "Epoch 13/20\n",
      "1/1 [==============================] - 4s 4s/step - loss: 0.8865 - accuracy: 0.6333 - val_loss: 1.1462 - val_accuracy: 0.3333\n",
      "Epoch 14/20\n",
      "1/1 [==============================] - 4s 4s/step - loss: 0.8702 - accuracy: 0.7333 - val_loss: 1.1501 - val_accuracy: 0.3333\n",
      "Epoch 15/20\n",
      "1/1 [==============================] - 4s 4s/step - loss: 0.8211 - accuracy: 0.8667 - val_loss: 1.1688 - val_accuracy: 0.3333\n",
      "Epoch 16/20\n",
      "1/1 [==============================] - 4s 4s/step - loss: 0.8151 - accuracy: 0.8000 - val_loss: 1.1779 - val_accuracy: 0.3333\n",
      "Epoch 17/20\n",
      "1/1 [==============================] - 4s 4s/step - loss: 0.7326 - accuracy: 0.8333 - val_loss: 1.1703 - val_accuracy: 0.3333\n",
      "Epoch 18/20\n",
      "1/1 [==============================] - 4s 4s/step - loss: 0.6990 - accuracy: 0.8000 - val_loss: 1.1566 - val_accuracy: 0.4444\n",
      "Epoch 19/20\n",
      "1/1 [==============================] - 4s 4s/step - loss: 0.6633 - accuracy: 0.8333 - val_loss: 1.1908 - val_accuracy: 0.4444\n",
      "Epoch 20/20\n",
      "1/1 [==============================] - 4s 4s/step - loss: 0.6714 - accuracy: 0.7333 - val_loss: 1.2695 - val_accuracy: 0.3333\n"
     ]
    },
    {
     "data": {
      "text/plain": [
       "<keras.callbacks.callbacks.History at 0x1c75e94c9e8>"
      ]
     },
     "execution_count": 3,
     "metadata": {},
     "output_type": "execute_result"
    }
   ],
   "source": [
    "\n",
    "# Part 2 - Fitting the CNN to the images\n",
    "\n",
    "from keras.preprocessing.image import ImageDataGenerator\n",
    "\n",
    "train_datagen = ImageDataGenerator(rescale = 1./255,\n",
    "                                   shear_range = 0.2,\n",
    "                                   zoom_range = 0.2,\n",
    "                                   horizontal_flip = True)\n",
    "\n",
    "test_datagen = ImageDataGenerator(rescale = 1./255)\n",
    "\n",
    "training_set = train_datagen.flow_from_directory('E:/Deeplearning/ImageData/training',\n",
    "                                                 target_size = (64, 64),\n",
    "                                                 batch_size = 32,\n",
    "                                                 class_mode = 'categorical')\n",
    "\n",
    "test_set = test_datagen.flow_from_directory('E:/Deeplearning/ImageData/test',\n",
    "                                            target_size = (64, 64),\n",
    "                                            batch_size = 32,\n",
    "                                            class_mode = 'categorical')\n",
    "\n",
    "\n",
    "classifier.fit_generator(training_set,\n",
    "                         steps_per_epoch = len(training_set),\n",
    "                         epochs = 20,\n",
    "                         validation_data = test_set,    \n",
    "                         validation_steps = len(test_set))\n"
   ]
  },
  {
   "cell_type": "code",
   "execution_count": 18,
   "metadata": {},
   "outputs": [
    {
     "name": "stdout",
     "output_type": "stream",
     "text": [
      "[[0. 0. 1.]]\n",
      "Rushikh\n"
     ]
    }
   ],
   "source": [
    "# Part 3 - Making new predictions\n",
    "import numpy as np\n",
    "from keras.preprocessing import image\n",
    "test_image = image.load_img('E:/DeepLearning/ImageData/image4.jpg', target_size = (64, 64))\n",
    "test_image = image.img_to_array(test_image)\n",
    "test_image = np.expand_dims(test_image, axis = 0)\n",
    "result = classifier.predict(test_image)\n",
    "training_set.class_indices\n",
    "print(result)\n",
    "if result[0][0] == 1:\n",
    "    prediction = 'Krisha'\n",
    "    print(prediction)\n",
    "elif result[0][1] == 1:\n",
    "    prediction = 'Mohnish'\n",
    "    print(prediction)\n",
    "    \n",
    "else:\n",
    "    prediction = 'Rushikh'\n",
    "    print(prediction)\n",
    "    "
   ]
  },
  {
   "cell_type": "markdown",
   "metadata": {},
   "source": [
    "Implemetation in Modified LENET"
   ]
  },
  {
   "cell_type": "code",
   "execution_count": 5,
   "metadata": {},
   "outputs": [],
   "source": [
    "import keras\n",
    "from keras.layers import Conv2D, MaxPooling2D\n",
    "from keras.layers import Dense, Flatten\n",
    "from keras.models import Sequential"
   ]
  },
  {
   "cell_type": "code",
   "execution_count": 6,
   "metadata": {},
   "outputs": [],
   "source": [
    "model = Sequential()\n",
    "# Select 6 feature convolution kernels with a size of 3 * 3 (without offset), and get 6 feature maps. The size of each feature map is 32−3 + 1 = 30.\n",
    "# That is, the number of neurons has been reduced from 1024 to 30 ∗ 30 = 900 .\n",
    "# Parameters between input layer and C1 layer: 6 ∗ (3 ∗ 3 + 1)\n",
    "model.add(Conv2D(6, kernel_size=(3, 3), activation='relu', input_shape=(32, 32, 3)))\n",
    "# The input of this layer is the output of the first layer, which is a 30 * 30 * 6 node matrix.\n",
    "# The size of the filter used in this layer is 2 * 2, and the step length and width are both 2, so the output matrix size of this layer is 14 * 14 * 6.\n",
    "model.add(MaxPooling2D(pool_size=(2, 2)))\n",
    "# The input matrix size of this layer is 15 * 15 * 6, the filter size used is 3 * 3, and the depth is 16. This layer does not use all 0 padding, and the step size is 1.\n",
    "# The output matrix size of this layer is 13 * 13 * 16. This layer has 3 * 3 * 6 * 16 + 16 = 880 parameters\n",
    "model.add(Conv2D(16, kernel_size=(3, 3), activation='relu'))\n",
    "# The input matrix size of this layer is 13 * 13- * 16. The size of the filter used in this layer is 2 * 2, and the length and width steps are both 2, so the output matrix size of this layer is 5 * 5 * 16.\n",
    "model.add(MaxPooling2D(pool_size=(2, 2)))\n",
    "# The input matrix size of this layer is 6 * 6 * 16. This layer is called a convolution layer in the LeNet-5 paper, but because the size of the filter is 3 * 3, #\n",
    "# So it is not different from the fully connected layer. If the nodes in the 3 * 3 * 16 matrix are pulled into a vector, then this layer is the same as the fully connected layer.\n",
    "# The number of output nodes in this layer is 120, with a total of 3 * 3 * 16 * 120 + 120 = 17400 parameters.\n",
    "model.add(Flatten())\n",
    "model.add(Dense(120, activation='relu'))\n",
    "# The number of input nodes in this layer is 120 and the number of output nodes is 84. The total parameter is 120 * 84 + 84 = 10164 (w + b)\n",
    "model.add(Dense(84, activation='relu'))\n",
    "# The number of input nodes in this layer is 84 and the number of output nodes is 10. The total parameter is 84 * 10 + 10 = 850\n",
    "model.add(Dense(3, activation='softmax'))\n",
    "model.compile(loss=keras.metrics.categorical_crossentropy, optimizer=keras.optimizers.Adam(), metrics=['accuracy'])\n",
    "#model.fit(x_train, y_train, batch_size=128, epochs=20, verbose=1, validation_data=(x_test, y_test))\n",
    "#score = model.evaluate(x_test, y_test)\n",
    "#print('Test Loss:', score[0])\n",
    "#print('Test accuracy:', score[1])"
   ]
  },
  {
   "cell_type": "code",
   "execution_count": 7,
   "metadata": {},
   "outputs": [
    {
     "name": "stdout",
     "output_type": "stream",
     "text": [
      "Found 30 images belonging to 3 classes.\n",
      "Found 30 images belonging to 3 classes.\n",
      "Epoch 1/20\n",
      "2/2 [==============================] - 4s 2s/step - loss: 1.1171 - accuracy: 0.2667 - val_loss: 1.0982 - val_accuracy: 0.3667\n",
      "Epoch 2/20\n",
      "2/2 [==============================] - 4s 2s/step - loss: 1.0842 - accuracy: 0.3667 - val_loss: 1.0494 - val_accuracy: 0.3667\n",
      "Epoch 3/20\n",
      "2/2 [==============================] - 3s 1s/step - loss: 1.0817 - accuracy: 0.3667 - val_loss: 1.0886 - val_accuracy: 0.4667\n",
      "Epoch 4/20\n",
      "2/2 [==============================] - 3s 1s/step - loss: 1.0634 - accuracy: 0.4667 - val_loss: 1.0607 - val_accuracy: 0.5333\n",
      "Epoch 5/20\n",
      "2/2 [==============================] - 3s 2s/step - loss: 1.0764 - accuracy: 0.4000 - val_loss: 1.0482 - val_accuracy: 0.6000\n",
      "Epoch 6/20\n",
      "2/2 [==============================] - 3s 2s/step - loss: 1.0433 - accuracy: 0.5333 - val_loss: 1.0169 - val_accuracy: 0.6333\n",
      "Epoch 7/20\n",
      "2/2 [==============================] - 3s 2s/step - loss: 1.0350 - accuracy: 0.6333 - val_loss: 0.9946 - val_accuracy: 0.6667\n",
      "Epoch 8/20\n",
      "2/2 [==============================] - 3s 1s/step - loss: 1.0312 - accuracy: 0.6667 - val_loss: 0.9910 - val_accuracy: 0.6333\n",
      "Epoch 9/20\n",
      "2/2 [==============================] - 3s 1s/step - loss: 1.0103 - accuracy: 0.5667 - val_loss: 0.9880 - val_accuracy: 0.6667\n",
      "Epoch 10/20\n",
      "2/2 [==============================] - 3s 2s/step - loss: 0.9864 - accuracy: 0.7000 - val_loss: 0.9597 - val_accuracy: 0.7000\n",
      "Epoch 11/20\n",
      "2/2 [==============================] - 3s 1s/step - loss: 0.9673 - accuracy: 0.7333 - val_loss: 0.8870 - val_accuracy: 0.7000\n",
      "Epoch 12/20\n",
      "2/2 [==============================] - 3s 2s/step - loss: 0.9645 - accuracy: 0.6333 - val_loss: 0.9190 - val_accuracy: 0.7333\n",
      "Epoch 13/20\n",
      "2/2 [==============================] - 3s 2s/step - loss: 0.9211 - accuracy: 0.7333 - val_loss: 0.7754 - val_accuracy: 0.7333\n",
      "Epoch 14/20\n",
      "2/2 [==============================] - 3s 1s/step - loss: 0.8796 - accuracy: 0.7000 - val_loss: 0.8312 - val_accuracy: 0.7000\n",
      "Epoch 15/20\n",
      "2/2 [==============================] - 4s 2s/step - loss: 0.8728 - accuracy: 0.6333 - val_loss: 0.6938 - val_accuracy: 0.7333\n",
      "Epoch 16/20\n",
      "2/2 [==============================] - 3s 2s/step - loss: 0.8566 - accuracy: 0.6333 - val_loss: 0.7253 - val_accuracy: 0.7333\n",
      "Epoch 17/20\n",
      "2/2 [==============================] - 3s 2s/step - loss: 0.8678 - accuracy: 0.6667 - val_loss: 0.7680 - val_accuracy: 0.7667\n",
      "Epoch 18/20\n",
      "2/2 [==============================] - 3s 2s/step - loss: 0.7849 - accuracy: 0.8000 - val_loss: 0.7320 - val_accuracy: 0.7333\n",
      "Epoch 19/20\n",
      "2/2 [==============================] - 3s 2s/step - loss: 0.7490 - accuracy: 0.7667 - val_loss: 0.4933 - val_accuracy: 0.7667\n",
      "Epoch 20/20\n",
      "2/2 [==============================] - 3s 2s/step - loss: 0.7277 - accuracy: 0.7333 - val_loss: 0.7574 - val_accuracy: 0.7667\n"
     ]
    },
    {
     "data": {
      "text/plain": [
       "<keras.callbacks.callbacks.History at 0x1c76737b550>"
      ]
     },
     "execution_count": 7,
     "metadata": {},
     "output_type": "execute_result"
    }
   ],
   "source": [
    "\n",
    "# Part 2 - Fitting the CNN to the images\n",
    "\n",
    "from keras.preprocessing.image import ImageDataGenerator\n",
    "\n",
    "train_datagen = ImageDataGenerator(rescale = 1./255,\n",
    "                                   shear_range = 0.2,\n",
    "                                   zoom_range = 0.2,\n",
    "                                   horizontal_flip = True)\n",
    "\n",
    "test_datagen = ImageDataGenerator(rescale = 1./255)\n",
    "\n",
    "training_set = train_datagen.flow_from_directory('E:/Deeplearning/ImageData/training',\n",
    "                                                 target_size = (32, 32),\n",
    "                                                 batch_size = 16,\n",
    "                                                 class_mode = 'categorical')\n",
    "\n",
    "test_set = test_datagen.flow_from_directory('E:/Deeplearning/ImageData/training',\n",
    "                                            target_size = (32, 32),\n",
    "                                            batch_size = 16,\n",
    "                                            class_mode = 'categorical')\n",
    "\n",
    "model.fit_generator(training_set,\n",
    "                         steps_per_epoch = len(training_set),\n",
    "                         epochs = 20,\n",
    "                         validation_data = test_set,    \n",
    "                         validation_steps = len(test_set))\n"
   ]
  },
  {
   "cell_type": "code",
   "execution_count": 21,
   "metadata": {},
   "outputs": [
    {
     "name": "stdout",
     "output_type": "stream",
     "text": [
      "[[0. 0. 1.]]\n",
      "Rushikh\n"
     ]
    }
   ],
   "source": [
    "# Part 3 - Making new predictions\n",
    "import numpy as np\n",
    "from keras.preprocessing import image\n",
    "test_image = image.load_img('E:/DeepLearning/ImageData/image4.jpg', target_size = (32, 32))\n",
    "test_image = image.img_to_array(test_image)\n",
    "test_image = np.expand_dims(test_image, axis = 0)\n",
    "result = model.predict(test_image)\n",
    "training_set.class_indices\n",
    "print(result)\n",
    "if result[0][0] == 1:\n",
    "    prediction = 'Krisha'\n",
    "    print(prediction)\n",
    "elif result[0][1] == 1:\n",
    "    prediction = 'Mohnish'\n",
    "    print(prediction)\n",
    "    \n",
    "else:\n",
    "    prediction = 'Rushikh'\n",
    "    print(prediction)\n",
    "    "
   ]
  },
  {
   "cell_type": "code",
   "execution_count": null,
   "metadata": {},
   "outputs": [],
   "source": []
  }
 ],
 "metadata": {
  "kernelspec": {
   "display_name": "Python 3",
   "language": "python",
   "name": "python3"
  },
  "language_info": {
   "codemirror_mode": {
    "name": "ipython",
    "version": 3
   },
   "file_extension": ".py",
   "mimetype": "text/x-python",
   "name": "python",
   "nbconvert_exporter": "python",
   "pygments_lexer": "ipython3",
   "version": "3.6.10"
  }
 },
 "nbformat": 4,
 "nbformat_minor": 4
}
